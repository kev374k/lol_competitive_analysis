{
 "cells": [
  {
   "cell_type": "markdown",
   "metadata": {},
   "source": [
    "# Your Title Here\n",
    "\n",
    "**Name(s)**: Kevin Wong, Andrew Yang\n",
    "\n",
    "**Website Link**: (your website link)"
   ]
  },
  {
   "cell_type": "markdown",
   "metadata": {},
   "source": [
    "# Introduction\n",
    "<span style=\"color:red\">Understand the data you have access to. Brainstorm a few questions that interest you about the dataset. Pick one question you plan to investigate further. (As the data science lifecycle tells us, this question may change as you work on your project.)</span>"
   ]
  },
  {
   "cell_type": "markdown",
   "metadata": {},
   "source": [
    "# Univariate Analysis\n",
    "<span style=\"color:red\">Look at the distributions of relevant columns separately by using DataFrame operations and drawing at least two relevant plots</span>"
   ]
  },
  {
   "cell_type": "markdown",
   "metadata": {},
   "source": [
    "# Bivariate Analysis\n",
    "<span style=\"color:red\">Look at the statistics of pairs of columns to identify possible associations. For instance, you may create scatter plots and plot conditional distributions, or box-plots. You must plot at least two such plots in your notebook. The results of your bivariate analyses will be helpful in identifying interesting hypothesis tests!\t</span>"
   ]
  },
  {
   "cell_type": "markdown",
   "metadata": {},
   "source": [
    "# Interesting Aggregates\n",
    "<span style=\"color:red\"> Choose columns to group and pivot by and examine aggregate statistics.\t</span>"
   ]
  },
  {
   "cell_type": "markdown",
   "metadata": {},
   "source": [
    "# NMAR Analysis\n",
    "<span style=\"color:red\"> Recall, to determine whether data are likely NMAR, you must reason about the data generating process; you cannot conclude that data are likely NMAR solely by looking at your data. As such, there’s no code to write here (and hence, nothing to put in your notebook).\t</span>"
   ]
  },
  {
   "cell_type": "markdown",
   "metadata": {},
   "source": [
    "# Missingness Dependency\n",
    "<span style=\"color:red\"> Pick a column in the dataset with non-trivial missingness to analyze, and perform permutation tests to analyze the dependency of the missingness of this column on other columns. </span>\n",
    "\n",
    "<span style=\"color:red\">Specifically, find at least one other column that the missingness of your selected column does depend on, and at least one other column that the missingness of your selected column does not depend on. </span>\n",
    "\n",
    "<span style=\"color:red\"> Tip: Make sure you know the difference between the different types of missingness before approaching that section. Many students in the past have lost credit for mistaking one type of missingness for another. </span>"
   ]
  },
  {
   "cell_type": "markdown",
   "metadata": {},
   "source": [
    "# Hypothesis Testing\n",
    "<span style=\"color:red\"> Clearly state a pair of hypotheses and perform a hypothesis test or permutation test that is not related to missingness. Feel free to use the “sample questions” in each of the dataset descriptions or create your own. This should be the question that is stated clearly at the top of your report.\t</span>"
   ]
  },
  {
   "cell_type": "markdown",
   "metadata": {},
   "source": [
    "# Notes\n",
    "\n",
    "1) GameID has 12 rows - 10 for each of the 5 players on both teams, as well as 2 for the team summary data. To separate it, 'position' column either has the position of the player, or 'team' if it is the summary stat\n",
    "2) Try to convert boolean columns  \n",
    "        a) 'datacompleteness' ('complete' - True, 'partial' - False) (NOTE: 'ignore' may be considered True - need to look at further data to compensate)\n",
    "        b) 'playoffs' - (1 - True, 0 - False)\n",
    "        c) 'result' - (1 - True, 0 - False)"
   ]
  },
  {
   "cell_type": "markdown",
   "metadata": {},
   "source": [
    "### datacompleteness - 'Partial' Notes\n",
    "\n",
    "1) 'Partial' - all data is web scraped from LPL (China), missing a lot because site is missing said data\n",
    "2) Columns 'doublekill', 'triplekill', 'quadrakill', 'pentakill', 'firstblood', drakeinformation, 'firsttower', 'firstmidtower', 'firsttothreetowers', 'turretplates', 'opp_turretplates', 'damagemitigatedperminute', general gold information"
   ]
  },
  {
   "cell_type": "markdown",
   "metadata": {},
   "source": [
    "1) Null Hypothesis: For teams that win, the probability of having a winning top lane has no affect on how well the team does\n",
    "\n",
    "2) Alternative Hypothesis: For teams that win, the probabilityy of having a winning top is significantly higher than when the team loses."
   ]
  },
  {
   "cell_type": "markdown",
   "metadata": {},
   "source": [
    "## Code"
   ]
  },
  {
   "cell_type": "code",
   "execution_count": 1,
   "metadata": {
    "ExecuteTime": {
     "end_time": "2019-10-31T23:36:28.652554Z",
     "start_time": "2019-10-31T23:36:27.180520Z"
    }
   },
   "outputs": [],
   "source": [
    "import pandas as pd\n",
    "import numpy as np\n",
    "import os\n",
    "\n",
    "import plotly.express as px\n",
    "pd.options.plotting.backend = 'plotly'"
   ]
  },
  {
   "cell_type": "markdown",
   "metadata": {},
   "source": [
    "### Cleaning and EDA"
   ]
  },
  {
   "cell_type": "code",
   "execution_count": 10,
   "metadata": {
    "ExecuteTime": {
     "end_time": "2019-10-31T23:36:28.657068Z",
     "start_time": "2019-10-31T23:36:28.654650Z"
    }
   },
   "outputs": [
    {
     "name": "stderr",
     "output_type": "stream",
     "text": [
      "/Users/kevinwong/anaconda3/envs/dsc80/lib/python3.8/site-packages/IPython/core/interactiveshell.py:3505: DtypeWarning: Columns (2,76) have mixed types.Specify dtype option on import or set low_memory=False.\n",
      "  exec(code_obj, self.user_global_ns, self.user_ns)\n"
     ]
    }
   ],
   "source": [
    "df = pd.read_csv(\"2022_LoL_esports_match_data_from_OraclesElixir.csv\")"
   ]
  },
  {
   "cell_type": "code",
   "execution_count": 16,
   "metadata": {},
   "outputs": [],
   "source": [
    "# cleaning data: converts columns 'datacompleteness', 'playoffs', 'result'\n",
    "# we then get the columns that are needed for our hypothesis\n",
    "\n",
    "cleaned_data = df.assign(\n",
    "    datacompleteness = df['datacompleteness'].apply(lambda x: False if x == \"incomplete\" else True),\n",
    "    playoffs = df['playoffs'].apply(lambda x: True if x == 1 else False),\n",
    "    result = df['result'].apply(lambda x: True if x == 1 else False)\n",
    "    ).loc[\n",
    "        :, ['gameid', 'datacompleteness', 'playoffs', 'side', 'position', 'champion', 'result', 'kills', 'deaths', 'assists', 'teamkills', 'teamdeaths', 'total cs', 'cspm', 'totalgold']\n",
    "    ]"
   ]
  },
  {
   "cell_type": "code",
   "execution_count": 23,
   "metadata": {},
   "outputs": [],
   "source": [
    "# filter the dataframe to only get complete data and position that we want to analyze\n",
    "filtered_df = cleaned_data[(cleaned_data['datacompleteness'] == True) & ((cleaned_data['position'] == 'top')|(cleaned_data['position'] == 'team'))]"
   ]
  },
  {
   "cell_type": "code",
   "execution_count": 29,
   "metadata": {},
   "outputs": [
    {
     "data": {
      "text/html": [
       "<div>\n",
       "<style scoped>\n",
       "    .dataframe tbody tr th:only-of-type {\n",
       "        vertical-align: middle;\n",
       "    }\n",
       "\n",
       "    .dataframe tbody tr th {\n",
       "        vertical-align: top;\n",
       "    }\n",
       "\n",
       "    .dataframe thead th {\n",
       "        text-align: right;\n",
       "    }\n",
       "</style>\n",
       "<table border=\"1\" class=\"dataframe\">\n",
       "  <thead>\n",
       "    <tr style=\"text-align: right;\">\n",
       "      <th></th>\n",
       "      <th>gameid</th>\n",
       "      <th>datacompleteness</th>\n",
       "      <th>playoffs</th>\n",
       "      <th>side</th>\n",
       "      <th>position</th>\n",
       "      <th>champion</th>\n",
       "      <th>result</th>\n",
       "      <th>kills</th>\n",
       "      <th>deaths</th>\n",
       "      <th>assists</th>\n",
       "      <th>teamkills</th>\n",
       "      <th>teamdeaths</th>\n",
       "      <th>total cs</th>\n",
       "      <th>cspm</th>\n",
       "      <th>totalgold</th>\n",
       "    </tr>\n",
       "  </thead>\n",
       "  <tbody>\n",
       "    <tr>\n",
       "      <th>0</th>\n",
       "      <td>ESPORTSTMNT01_2690210</td>\n",
       "      <td>True</td>\n",
       "      <td>False</td>\n",
       "      <td>Blue</td>\n",
       "      <td>top</td>\n",
       "      <td>Renekton</td>\n",
       "      <td>False</td>\n",
       "      <td>2</td>\n",
       "      <td>3</td>\n",
       "      <td>2</td>\n",
       "      <td>9</td>\n",
       "      <td>19</td>\n",
       "      <td>231.0</td>\n",
       "      <td>8.0911</td>\n",
       "      <td>10934</td>\n",
       "    </tr>\n",
       "    <tr>\n",
       "      <th>5</th>\n",
       "      <td>ESPORTSTMNT01_2690210</td>\n",
       "      <td>True</td>\n",
       "      <td>False</td>\n",
       "      <td>Red</td>\n",
       "      <td>top</td>\n",
       "      <td>Gragas</td>\n",
       "      <td>True</td>\n",
       "      <td>1</td>\n",
       "      <td>1</td>\n",
       "      <td>12</td>\n",
       "      <td>19</td>\n",
       "      <td>9</td>\n",
       "      <td>229.0</td>\n",
       "      <td>8.0210</td>\n",
       "      <td>10001</td>\n",
       "    </tr>\n",
       "    <tr>\n",
       "      <th>10</th>\n",
       "      <td>ESPORTSTMNT01_2690210</td>\n",
       "      <td>True</td>\n",
       "      <td>False</td>\n",
       "      <td>Blue</td>\n",
       "      <td>team</td>\n",
       "      <td>NaN</td>\n",
       "      <td>False</td>\n",
       "      <td>9</td>\n",
       "      <td>19</td>\n",
       "      <td>19</td>\n",
       "      <td>9</td>\n",
       "      <td>19</td>\n",
       "      <td>NaN</td>\n",
       "      <td>29.4221</td>\n",
       "      <td>47070</td>\n",
       "    </tr>\n",
       "    <tr>\n",
       "      <th>11</th>\n",
       "      <td>ESPORTSTMNT01_2690210</td>\n",
       "      <td>True</td>\n",
       "      <td>False</td>\n",
       "      <td>Red</td>\n",
       "      <td>team</td>\n",
       "      <td>NaN</td>\n",
       "      <td>True</td>\n",
       "      <td>19</td>\n",
       "      <td>9</td>\n",
       "      <td>62</td>\n",
       "      <td>19</td>\n",
       "      <td>9</td>\n",
       "      <td>NaN</td>\n",
       "      <td>34.1856</td>\n",
       "      <td>52617</td>\n",
       "    </tr>\n",
       "    <tr>\n",
       "      <th>12</th>\n",
       "      <td>ESPORTSTMNT01_2690219</td>\n",
       "      <td>True</td>\n",
       "      <td>False</td>\n",
       "      <td>Blue</td>\n",
       "      <td>top</td>\n",
       "      <td>Gragas</td>\n",
       "      <td>False</td>\n",
       "      <td>0</td>\n",
       "      <td>5</td>\n",
       "      <td>2</td>\n",
       "      <td>3</td>\n",
       "      <td>16</td>\n",
       "      <td>245.0</td>\n",
       "      <td>6.9536</td>\n",
       "      <td>11076</td>\n",
       "    </tr>\n",
       "    <tr>\n",
       "      <th>...</th>\n",
       "      <td>...</td>\n",
       "      <td>...</td>\n",
       "      <td>...</td>\n",
       "      <td>...</td>\n",
       "      <td>...</td>\n",
       "      <td>...</td>\n",
       "      <td>...</td>\n",
       "      <td>...</td>\n",
       "      <td>...</td>\n",
       "      <td>...</td>\n",
       "      <td>...</td>\n",
       "      <td>...</td>\n",
       "      <td>...</td>\n",
       "      <td>...</td>\n",
       "      <td>...</td>\n",
       "    </tr>\n",
       "    <tr>\n",
       "      <th>149387</th>\n",
       "      <td>9687-9687_game_4</td>\n",
       "      <td>True</td>\n",
       "      <td>False</td>\n",
       "      <td>Red</td>\n",
       "      <td>team</td>\n",
       "      <td>NaN</td>\n",
       "      <td>False</td>\n",
       "      <td>7</td>\n",
       "      <td>19</td>\n",
       "      <td>16</td>\n",
       "      <td>7</td>\n",
       "      <td>19</td>\n",
       "      <td>NaN</td>\n",
       "      <td>NaN</td>\n",
       "      <td>56573</td>\n",
       "    </tr>\n",
       "    <tr>\n",
       "      <th>149388</th>\n",
       "      <td>9687-9687_game_5</td>\n",
       "      <td>True</td>\n",
       "      <td>False</td>\n",
       "      <td>Blue</td>\n",
       "      <td>top</td>\n",
       "      <td>Gragas</td>\n",
       "      <td>False</td>\n",
       "      <td>0</td>\n",
       "      <td>4</td>\n",
       "      <td>2</td>\n",
       "      <td>8</td>\n",
       "      <td>21</td>\n",
       "      <td>197.0</td>\n",
       "      <td>6.6479</td>\n",
       "      <td>8594</td>\n",
       "    </tr>\n",
       "    <tr>\n",
       "      <th>149393</th>\n",
       "      <td>9687-9687_game_5</td>\n",
       "      <td>True</td>\n",
       "      <td>False</td>\n",
       "      <td>Red</td>\n",
       "      <td>top</td>\n",
       "      <td>Jax</td>\n",
       "      <td>True</td>\n",
       "      <td>4</td>\n",
       "      <td>0</td>\n",
       "      <td>5</td>\n",
       "      <td>21</td>\n",
       "      <td>8</td>\n",
       "      <td>281.0</td>\n",
       "      <td>9.4826</td>\n",
       "      <td>13735</td>\n",
       "    </tr>\n",
       "    <tr>\n",
       "      <th>149398</th>\n",
       "      <td>9687-9687_game_5</td>\n",
       "      <td>True</td>\n",
       "      <td>False</td>\n",
       "      <td>Blue</td>\n",
       "      <td>team</td>\n",
       "      <td>NaN</td>\n",
       "      <td>False</td>\n",
       "      <td>8</td>\n",
       "      <td>21</td>\n",
       "      <td>16</td>\n",
       "      <td>8</td>\n",
       "      <td>21</td>\n",
       "      <td>NaN</td>\n",
       "      <td>NaN</td>\n",
       "      <td>45976</td>\n",
       "    </tr>\n",
       "    <tr>\n",
       "      <th>149399</th>\n",
       "      <td>9687-9687_game_5</td>\n",
       "      <td>True</td>\n",
       "      <td>False</td>\n",
       "      <td>Red</td>\n",
       "      <td>team</td>\n",
       "      <td>NaN</td>\n",
       "      <td>True</td>\n",
       "      <td>21</td>\n",
       "      <td>8</td>\n",
       "      <td>49</td>\n",
       "      <td>21</td>\n",
       "      <td>8</td>\n",
       "      <td>NaN</td>\n",
       "      <td>NaN</td>\n",
       "      <td>59512</td>\n",
       "    </tr>\n",
       "  </tbody>\n",
       "</table>\n",
       "<p>49800 rows × 15 columns</p>\n",
       "</div>"
      ],
      "text/plain": [
       "                       gameid  datacompleteness  playoffs  side position  \\\n",
       "0       ESPORTSTMNT01_2690210              True     False  Blue      top   \n",
       "5       ESPORTSTMNT01_2690210              True     False   Red      top   \n",
       "10      ESPORTSTMNT01_2690210              True     False  Blue     team   \n",
       "11      ESPORTSTMNT01_2690210              True     False   Red     team   \n",
       "12      ESPORTSTMNT01_2690219              True     False  Blue      top   \n",
       "...                       ...               ...       ...   ...      ...   \n",
       "149387       9687-9687_game_4              True     False   Red     team   \n",
       "149388       9687-9687_game_5              True     False  Blue      top   \n",
       "149393       9687-9687_game_5              True     False   Red      top   \n",
       "149398       9687-9687_game_5              True     False  Blue     team   \n",
       "149399       9687-9687_game_5              True     False   Red     team   \n",
       "\n",
       "        champion  result  kills  deaths  assists  teamkills  teamdeaths  \\\n",
       "0       Renekton   False      2       3        2          9          19   \n",
       "5         Gragas    True      1       1       12         19           9   \n",
       "10           NaN   False      9      19       19          9          19   \n",
       "11           NaN    True     19       9       62         19           9   \n",
       "12        Gragas   False      0       5        2          3          16   \n",
       "...          ...     ...    ...     ...      ...        ...         ...   \n",
       "149387       NaN   False      7      19       16          7          19   \n",
       "149388    Gragas   False      0       4        2          8          21   \n",
       "149393       Jax    True      4       0        5         21           8   \n",
       "149398       NaN   False      8      21       16          8          21   \n",
       "149399       NaN    True     21       8       49         21           8   \n",
       "\n",
       "        total cs     cspm  totalgold  \n",
       "0          231.0   8.0911      10934  \n",
       "5          229.0   8.0210      10001  \n",
       "10           NaN  29.4221      47070  \n",
       "11           NaN  34.1856      52617  \n",
       "12         245.0   6.9536      11076  \n",
       "...          ...      ...        ...  \n",
       "149387       NaN      NaN      56573  \n",
       "149388     197.0   6.6479       8594  \n",
       "149393     281.0   9.4826      13735  \n",
       "149398       NaN      NaN      45976  \n",
       "149399       NaN      NaN      59512  \n",
       "\n",
       "[49800 rows x 15 columns]"
      ]
     },
     "execution_count": 29,
     "metadata": {},
     "output_type": "execute_result"
    }
   ],
   "source": [
    "filtered_df"
   ]
  },
  {
   "cell_type": "markdown",
   "metadata": {},
   "source": [
    "### Assessment of Missingness"
   ]
  },
  {
   "cell_type": "code",
   "execution_count": null,
   "metadata": {
    "ExecuteTime": {
     "end_time": "2019-10-31T23:36:28.662099Z",
     "start_time": "2019-10-31T23:36:28.660016Z"
    }
   },
   "outputs": [],
   "source": [
    "# TODO"
   ]
  },
  {
   "cell_type": "markdown",
   "metadata": {},
   "source": [
    "### Hypothesis Testing"
   ]
  },
  {
   "cell_type": "code",
   "execution_count": null,
   "metadata": {
    "ExecuteTime": {
     "end_time": "2019-10-31T23:36:28.666489Z",
     "start_time": "2019-10-31T23:36:28.664381Z"
    }
   },
   "outputs": [],
   "source": [
    "# TODO"
   ]
  }
 ],
 "metadata": {
  "kernelspec": {
   "display_name": "Python 3 (ipykernel)",
   "language": "python",
   "name": "python3"
  },
  "language_info": {
   "codemirror_mode": {
    "name": "ipython",
    "version": 3
   },
   "file_extension": ".py",
   "mimetype": "text/x-python",
   "name": "python",
   "nbconvert_exporter": "python",
   "pygments_lexer": "ipython3",
   "version": "3.8.18"
  }
 },
 "nbformat": 4,
 "nbformat_minor": 2
}
